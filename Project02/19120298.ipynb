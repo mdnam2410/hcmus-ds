{
 "cells": [
  {
   "cell_type": "markdown",
   "id": "cordless-cradle",
   "metadata": {},
   "source": [
    "# Thông tin chung\n",
    "Notebook này trình bày phần công việc của:\n",
    "* Họ tên: Mai Duy Nam\n",
    "* MSSV: 19120298\n",
    "\n",
    "## Bảng phân công công việc\n",
    "\n",
    "| STT | Công việc | Người thực hiện | MSSV |\n",
    "| :--- | :--------- | :--------------- | :---- |\n",
    "| **1** | **Phân tích dữ liệu user** | **Mai Duy Nam** | **19120298** |\n",
    "| 2 | Phân tích dữ liệu track | Nguyễn Hữu Bình | 19120460 |\n",
    "| 3 | Phân tích dữ liệu playlist | Lê Đức Huy | 19120080 |"
   ]
  },
  {
   "cell_type": "markdown",
   "id": "relative-mongolia",
   "metadata": {},
   "source": [
    "---"
   ]
  },
  {
   "cell_type": "markdown",
   "id": "least-renewal",
   "metadata": {},
   "source": [
    "# Nội dung phân tích dữ liệu"
   ]
  },
  {
   "cell_type": "markdown",
   "id": "noble-meter",
   "metadata": {},
   "source": [
    "## Import các thư viện cần thiết"
   ]
  },
  {
   "cell_type": "code",
   "execution_count": 1,
   "id": "numerous-sitting",
   "metadata": {},
   "outputs": [],
   "source": [
    "import numpy as np\n",
    "import pandas as pd\n",
    "import matplotlib.pyplot as plt\n",
    "\n",
    "pd.options.display.float_format = '{:,.2f}'.format\n",
    "pd.set_option('display.max_colwidth', 30)\n",
    "pd.set_option('display.max_columns', 6)\n",
    "pd.set_option('display.expand_frame_repr', False)\n",
    "pd.set_option('display.large_repr', 'truncate')"
   ]
  },
  {
   "cell_type": "markdown",
   "id": "injured-scenario",
   "metadata": {},
   "source": [
    "## Tổng quan về dữ liệu\n",
    "Tập dữ liệu `user.csv` chứa 2000 record về thông tin người dùng của SoundCloud. Dữ liệu này được thu thập bằng cách:\n",
    "* Crawl trên API cung cấp bởi SoundCloud\n",
    "* Sử dụng thuật toán breadth-first search:\n",
    "    * Gốc xuất phát là một người dùng xác định ([Artix](https://soundcloud.com/realartixmusic))\n",
    "    * Thuật toán khám phá người dùng mới dựa trên hai mối quan hệ follower và following, trong đó 50% dữ liệu thu thập dùng quan hệ follower, 50% dùng quan hệ following\n",
    "\n",
    "### Lưu ý về dữ liệu\n",
    "Do tính chất của quá trình khám phá, các số liệu thu thập được phụ thuộc rất lớn vào người dùng được sử dụng ở đầu vào. Lý do em chọn Artix làm người dùng đầu vào là vì:\n",
    "* Bạn ấy là người quen!\n",
    "* Artix là một DJ không quá nhỏ cũng không quá lớn (số người theo dõi khoảng 2000 người)\n",
    "* Artix cũng có một số bản nhạc gây được tiếng tăm đến cộng đồng nước ngoài chứ không chỉ gói gọn ở Việt Nam, do đó khám phá từ bạn ấy có thể mở rộng được đến nhiều quốc gia hơn\n",
    "\n",
    "Như vậy, hạn chế của tập dữ liệu này nằm ở việc:\n",
    "* Nó không khái quát được về người dùng nói chung của SoundCloud\n",
    "* Có khả năng bị nhiễu lớn\n",
    "\n",
    "### Những điều mong đợi từ dữ liệu\n",
    "Với tính chất của dữ liệu trên, em có một số những dự đoán về dữ liệu như sau:\n",
    "* Dữ liệu sẽ có độ phân tán lớn\n",
    "* Dữ liệu có phân phối lệch về phía giá trị nhỏ\n",
    "* Số người theo dõi trung bình sẽ cao do ta chạm đến được nhiều nghệ sĩ hơn\n",
    "* Số các quốc gia sẽ cao\n",
    "\n",
    "Theo đó, em sẽ đi tìm hiểu:\n",
    "* Mối quan hệ giữa số track và số follower của user để xem liệu một nghệ sĩ sản xuất ra càng nhiều bài nhạc có giúp tăng số lượt theo dõi hay không"
   ]
  },
  {
   "cell_type": "markdown",
   "id": "responsible-darwin",
   "metadata": {},
   "source": [
    "## Load dữ liệu và tiền xử lý"
   ]
  },
  {
   "cell_type": "code",
   "execution_count": 2,
   "id": "aware-mailman",
   "metadata": {},
   "outputs": [
    {
     "data": {
      "text/html": [
       "<div>\n",
       "<style scoped>\n",
       "    .dataframe tbody tr th:only-of-type {\n",
       "        vertical-align: middle;\n",
       "    }\n",
       "\n",
       "    .dataframe tbody tr th {\n",
       "        vertical-align: top;\n",
       "    }\n",
       "\n",
       "    .dataframe thead th {\n",
       "        text-align: right;\n",
       "    }\n",
       "</style>\n",
       "<table border=\"1\" class=\"dataframe\">\n",
       "  <thead>\n",
       "    <tr style=\"text-align: right;\">\n",
       "      <th></th>\n",
       "      <th>permalink_url</th>\n",
       "      <th>username</th>\n",
       "      <th>full_name</th>\n",
       "      <th>...</th>\n",
       "      <th>playlist_count</th>\n",
       "      <th>likes_count</th>\n",
       "      <th>comments_count</th>\n",
       "    </tr>\n",
       "    <tr>\n",
       "      <th>id</th>\n",
       "      <th></th>\n",
       "      <th></th>\n",
       "      <th></th>\n",
       "      <th></th>\n",
       "      <th></th>\n",
       "      <th></th>\n",
       "      <th></th>\n",
       "    </tr>\n",
       "  </thead>\n",
       "  <tbody>\n",
       "    <tr>\n",
       "      <th>682450937</th>\n",
       "      <td>https://soundcloud.com/luk...</td>\n",
       "      <td>SkAfFaBruUR</td>\n",
       "      <td>Luka Dbs</td>\n",
       "      <td>...</td>\n",
       "      <td>9</td>\n",
       "      <td>3654</td>\n",
       "      <td>13</td>\n",
       "    </tr>\n",
       "    <tr>\n",
       "      <th>1038569842</th>\n",
       "      <td>https://soundcloud.com/ann...</td>\n",
       "      <td>annajoe 💋💋</td>\n",
       "      <td>Anna Campbell</td>\n",
       "      <td>...</td>\n",
       "      <td>0</td>\n",
       "      <td>40</td>\n",
       "      <td>0</td>\n",
       "    </tr>\n",
       "    <tr>\n",
       "      <th>264386839</th>\n",
       "      <td>https://soundcloud.com/ali...</td>\n",
       "      <td>AliciaJade</td>\n",
       "      <td>AliciaJade Foy</td>\n",
       "      <td>...</td>\n",
       "      <td>1</td>\n",
       "      <td>329</td>\n",
       "      <td>0</td>\n",
       "    </tr>\n",
       "    <tr>\n",
       "      <th>191935148</th>\n",
       "      <td>https://soundcloud.com/lew...</td>\n",
       "      <td>LEWIS CHAPMAN</td>\n",
       "      <td>Lewis Chapman</td>\n",
       "      <td>...</td>\n",
       "      <td>5</td>\n",
       "      <td>657</td>\n",
       "      <td>4</td>\n",
       "    </tr>\n",
       "    <tr>\n",
       "      <th>522587076</th>\n",
       "      <td>https://soundcloud.com/mar...</td>\n",
       "      <td>Mary B Beresford 💛</td>\n",
       "      <td>Mary Beresford</td>\n",
       "      <td>...</td>\n",
       "      <td>0</td>\n",
       "      <td>1041</td>\n",
       "      <td>2</td>\n",
       "    </tr>\n",
       "    <tr>\n",
       "      <th>...</th>\n",
       "      <td>...</td>\n",
       "      <td>...</td>\n",
       "      <td>...</td>\n",
       "      <td>...</td>\n",
       "      <td>...</td>\n",
       "      <td>...</td>\n",
       "      <td>...</td>\n",
       "    </tr>\n",
       "    <tr>\n",
       "      <th>24415444</th>\n",
       "      <td>https://soundcloud.com/liv...</td>\n",
       "      <td>Liveon</td>\n",
       "      <td>NaN</td>\n",
       "      <td>...</td>\n",
       "      <td>0</td>\n",
       "      <td>139</td>\n",
       "      <td>74</td>\n",
       "    </tr>\n",
       "    <tr>\n",
       "      <th>311781492</th>\n",
       "      <td>https://soundcloud.com/evo...</td>\n",
       "      <td>Evolution Chamber</td>\n",
       "      <td>NaN</td>\n",
       "      <td>...</td>\n",
       "      <td>3</td>\n",
       "      <td>6</td>\n",
       "      <td>0</td>\n",
       "    </tr>\n",
       "    <tr>\n",
       "      <th>3494687</th>\n",
       "      <td>https://soundcloud.com/djl...</td>\n",
       "      <td>DJ Lucky Rabbit</td>\n",
       "      <td>Kriss Erickson</td>\n",
       "      <td>...</td>\n",
       "      <td>0</td>\n",
       "      <td>80</td>\n",
       "      <td>90</td>\n",
       "    </tr>\n",
       "    <tr>\n",
       "      <th>5466924</th>\n",
       "      <td>https://soundcloud.com/col...</td>\n",
       "      <td>Column11Sound</td>\n",
       "      <td>NaN</td>\n",
       "      <td>...</td>\n",
       "      <td>65</td>\n",
       "      <td>2773</td>\n",
       "      <td>965</td>\n",
       "    </tr>\n",
       "    <tr>\n",
       "      <th>2370952</th>\n",
       "      <td>https://soundcloud.com/ans...</td>\n",
       "      <td>AN System</td>\n",
       "      <td>NaN</td>\n",
       "      <td>...</td>\n",
       "      <td>0</td>\n",
       "      <td>941</td>\n",
       "      <td>85</td>\n",
       "    </tr>\n",
       "  </tbody>\n",
       "</table>\n",
       "<p>2000 rows × 13 columns</p>\n",
       "</div>"
      ],
      "text/plain": [
       "                            permalink_url            username       full_name  ... playlist_count likes_count comments_count\n",
       "id                                                                             ...                                          \n",
       "682450937   https://soundcloud.com/luk...         SkAfFaBruUR        Luka Dbs  ...              9        3654             13\n",
       "1038569842  https://soundcloud.com/ann...          annajoe 💋💋   Anna Campbell  ...              0          40              0\n",
       "264386839   https://soundcloud.com/ali...          AliciaJade  AliciaJade Foy  ...              1         329              0\n",
       "191935148   https://soundcloud.com/lew...       LEWIS CHAPMAN   Lewis Chapman  ...              5         657              4\n",
       "522587076   https://soundcloud.com/mar...  Mary B Beresford 💛  Mary Beresford  ...              0        1041              2\n",
       "...                                   ...                 ...             ...  ...            ...         ...            ...\n",
       "24415444    https://soundcloud.com/liv...              Liveon             NaN  ...              0         139             74\n",
       "311781492   https://soundcloud.com/evo...   Evolution Chamber             NaN  ...              3           6              0\n",
       "3494687     https://soundcloud.com/djl...     DJ Lucky Rabbit  Kriss Erickson  ...              0          80             90\n",
       "5466924     https://soundcloud.com/col...       Column11Sound             NaN  ...             65        2773            965\n",
       "2370952     https://soundcloud.com/ans...           AN System             NaN  ...              0         941             85\n",
       "\n",
       "[2000 rows x 13 columns]"
      ]
     },
     "execution_count": 2,
     "metadata": {},
     "output_type": "execute_result"
    }
   ],
   "source": [
    "user_df = pd.read_csv('Api_data/user.csv', index_col=0, usecols=list(range(1, 15)))\n",
    "user_df"
   ]
  },
  {
   "cell_type": "code",
   "execution_count": 3,
   "id": "shared-switch",
   "metadata": {},
   "outputs": [
    {
     "data": {
      "text/plain": [
       "Index(['permalink_url', 'username', 'full_name', 'city', 'country_code',\n",
       "       'description', 'verified', 'followers_count', 'followings_count',\n",
       "       'track_count', 'playlist_count', 'likes_count', 'comments_count'],\n",
       "      dtype='object')"
      ]
     },
     "execution_count": 3,
     "metadata": {},
     "output_type": "execute_result"
    }
   ],
   "source": [
    "user_df.columns"
   ]
  },
  {
   "cell_type": "markdown",
   "id": "naughty-quality",
   "metadata": {},
   "source": [
    "### Ý nghĩa các cột"
   ]
  },
  {
   "cell_type": "markdown",
   "id": "narrow-plain",
   "metadata": {},
   "source": [
    "Theo [SoundCloud Public API Specification](https://developers.soundcloud.com/docs/api/explorer/open-api):\n",
    "* `permalink_url`: Đường dẫn đến trang cá nhân của user\n",
    "* `username`\n",
    "* `full_name`: Tên đầy đủ của user\n",
    "* `country_code`: Mã quốc gia (2 ký tự)\n",
    "* `description`: Thông tin mô tả về user\n",
    "* `followers_count`: Tổng số người theo dõi user\n",
    "* `followings_count`: Tổng số người mà user theo dõi\n",
    "* `track_count`: Tổng số track được public\n",
    "* `playlist_count`: Tổng số playlist được public\n",
    "* `likes_count`: Tổng số track user đã thích\n",
    "* `comments_count`: Tổng số lượt bình luận của user"
   ]
  },
  {
   "cell_type": "markdown",
   "id": "crucial-powell",
   "metadata": {},
   "source": [
    "### Danh sách kiểm tra phân tích dữ liệu\n",
    "Ta cần tổng kết được các điều sau:\n",
    "* Dữ liệu có bao nhiêu hàng, bao nhiêu cột?\n",
    "* Các cột đã có kiểu dữ liệu phù hợp chưa?\n",
    "* Các hàng có bị trùng nhau không?\n",
    "    * Có người dùng nào bị lặp lại với các số liệu khác nhau không?\n",
    "* Các cột giá trị số có phân bố như thế nào?\n",
    "* Các cột kiểu giá trị category có tính chất như thế nào?\n",
    "    * Có bao nhiêu giá trị thiếu?\n",
    "    * Có bao nhiêu giá trị duy nhất?"
   ]
  },
  {
   "cell_type": "markdown",
   "id": "right-importance",
   "metadata": {},
   "source": [
    "#### Dữ liệu có bao nhiêu hàng, bao nhiêu cột?"
   ]
  },
  {
   "cell_type": "code",
   "execution_count": 4,
   "id": "peripheral-resolution",
   "metadata": {},
   "outputs": [
    {
     "name": "stdout",
     "output_type": "stream",
     "text": [
      "Number of rows: 2000\n",
      "Number of columns: 13\n"
     ]
    }
   ],
   "source": [
    "num_rows, num_columns = user_df.shape\n",
    "print(f'Number of rows: {num_rows}\\nNumber of columns: {num_columns}')"
   ]
  },
  {
   "cell_type": "markdown",
   "id": "social-snake",
   "metadata": {},
   "source": [
    "#### Các cột đã có kiểu dữ liệu phù hợp chưa?"
   ]
  },
  {
   "cell_type": "code",
   "execution_count": 5,
   "id": "photographic-parish",
   "metadata": {},
   "outputs": [
    {
     "data": {
      "text/plain": [
       "permalink_url       object\n",
       "username            object\n",
       "full_name           object\n",
       "city                object\n",
       "country_code        object\n",
       "description         object\n",
       "verified              bool\n",
       "followers_count      int64\n",
       "followings_count     int64\n",
       "track_count          int64\n",
       "playlist_count       int64\n",
       "likes_count          int64\n",
       "comments_count       int64\n",
       "dtype: object"
      ]
     },
     "execution_count": 5,
     "metadata": {},
     "output_type": "execute_result"
    }
   ],
   "source": [
    "user_df.dtypes"
   ]
  },
  {
   "cell_type": "markdown",
   "id": "bearing-aquatic",
   "metadata": {},
   "source": [
    "Như vậy, các cột đều đã có kiểu dữ liệu phù hợp:\n",
    "* Các cột `permalink_url` đến `description` là dữ liệu categorical, tương ứng với kiểu `object`\n",
    "* Cột `verified` cho biết user có được xác thực chưa, tương ứng với kiểu `bool`\n",
    "* Các cột `followers_count` đến `comments_count` là dữ liệu dạng số nguyên, tương ứng với kiểu `int64`"
   ]
  },
  {
   "cell_type": "markdown",
   "id": "experienced-heath",
   "metadata": {},
   "source": [
    "#### Dữ liệu có bị trùng không?"
   ]
  },
  {
   "cell_type": "markdown",
   "id": "dutch-gabriel",
   "metadata": {},
   "source": [
    "Kiểm tra có hàng nào bị trùng không"
   ]
  },
  {
   "cell_type": "code",
   "execution_count": 6,
   "id": "willing-sunset",
   "metadata": {},
   "outputs": [
    {
     "data": {
      "text/plain": [
       "0"
      ]
     },
     "execution_count": 6,
     "metadata": {},
     "output_type": "execute_result"
    }
   ],
   "source": [
    "user_df[user_df.duplicated()].size"
   ]
  },
  {
   "cell_type": "markdown",
   "id": "demographic-testimony",
   "metadata": {},
   "source": [
    "Có user nào xuất hiện nhiều lần với các số liệu khác nhau không."
   ]
  },
  {
   "cell_type": "code",
   "execution_count": 7,
   "id": "handed-spain",
   "metadata": {},
   "outputs": [
    {
     "data": {
      "text/html": [
       "<div>\n",
       "<style scoped>\n",
       "    .dataframe tbody tr th:only-of-type {\n",
       "        vertical-align: middle;\n",
       "    }\n",
       "\n",
       "    .dataframe tbody tr th {\n",
       "        vertical-align: top;\n",
       "    }\n",
       "\n",
       "    .dataframe thead th {\n",
       "        text-align: right;\n",
       "    }\n",
       "</style>\n",
       "<table border=\"1\" class=\"dataframe\">\n",
       "  <thead>\n",
       "    <tr style=\"text-align: right;\">\n",
       "      <th></th>\n",
       "      <th>permalink_url</th>\n",
       "      <th>username</th>\n",
       "      <th>full_name</th>\n",
       "      <th>...</th>\n",
       "      <th>playlist_count</th>\n",
       "      <th>likes_count</th>\n",
       "      <th>comments_count</th>\n",
       "    </tr>\n",
       "    <tr>\n",
       "      <th>id</th>\n",
       "      <th></th>\n",
       "      <th></th>\n",
       "      <th></th>\n",
       "      <th></th>\n",
       "      <th></th>\n",
       "      <th></th>\n",
       "      <th></th>\n",
       "    </tr>\n",
       "  </thead>\n",
       "  <tbody>\n",
       "    <tr>\n",
       "      <th>2656381</th>\n",
       "      <td>https://soundcloud.com/ska...</td>\n",
       "      <td>Skankandbass</td>\n",
       "      <td>NaN</td>\n",
       "      <td>...</td>\n",
       "      <td>101</td>\n",
       "      <td>3698</td>\n",
       "      <td>849</td>\n",
       "    </tr>\n",
       "    <tr>\n",
       "      <th>2656381</th>\n",
       "      <td>https://soundcloud.com/ska...</td>\n",
       "      <td>Skankandbass</td>\n",
       "      <td>NaN</td>\n",
       "      <td>...</td>\n",
       "      <td>101</td>\n",
       "      <td>3698</td>\n",
       "      <td>849</td>\n",
       "    </tr>\n",
       "  </tbody>\n",
       "</table>\n",
       "<p>2 rows × 13 columns</p>\n",
       "</div>"
      ],
      "text/plain": [
       "                         permalink_url      username full_name  ... playlist_count likes_count comments_count\n",
       "id                                                              ...                                          \n",
       "2656381  https://soundcloud.com/ska...  Skankandbass       NaN  ...            101        3698            849\n",
       "2656381  https://soundcloud.com/ska...  Skankandbass       NaN  ...            101        3698            849\n",
       "\n",
       "[2 rows x 13 columns]"
      ]
     },
     "execution_count": 7,
     "metadata": {},
     "output_type": "execute_result"
    }
   ],
   "source": [
    "user_df[user_df.duplicated(subset='permalink_url', keep=False)]"
   ]
  },
  {
   "cell_type": "markdown",
   "id": "varied-pierce",
   "metadata": {},
   "source": [
    "Như vậy, có duy nhật một user bị lặp lại với số liệu khác nhau. Do sự sai khác rất nhỏ (chỉ chênh lệch 1 trong cột `followers_count`), em quyết định loại bỏ một trong hai user này."
   ]
  },
  {
   "cell_type": "code",
   "execution_count": 8,
   "id": "indirect-planet",
   "metadata": {},
   "outputs": [
    {
     "data": {
      "text/plain": [
       "(1999, 13)"
      ]
     },
     "execution_count": 8,
     "metadata": {},
     "output_type": "execute_result"
    }
   ],
   "source": [
    "user_df.drop_duplicates(subset='permalink_url', keep='first', inplace=True)\n",
    "user_df.shape"
   ]
  },
  {
   "cell_type": "markdown",
   "id": "constitutional-aruba",
   "metadata": {},
   "source": [
    "#### Các dữ liệu dạng số được phân bố như thế nào"
   ]
  },
  {
   "cell_type": "code",
   "execution_count": 9,
   "id": "grateful-external",
   "metadata": {},
   "outputs": [],
   "source": [
    "numerical_columns = ['followers_count', 'followings_count', 'track_count', 'playlist_count', 'likes_count', 'comments_count']\n",
    "categorical_columns = ['permalink_url', 'username', 'full_name', 'city', 'country_code', 'description', 'verified']"
   ]
  },
  {
   "cell_type": "code",
   "execution_count": 10,
   "id": "stylish-chaos",
   "metadata": {},
   "outputs": [
    {
     "data": {
      "text/html": [
       "<div>\n",
       "<style scoped>\n",
       "    .dataframe tbody tr th:only-of-type {\n",
       "        vertical-align: middle;\n",
       "    }\n",
       "\n",
       "    .dataframe tbody tr th {\n",
       "        vertical-align: top;\n",
       "    }\n",
       "\n",
       "    .dataframe thead th {\n",
       "        text-align: right;\n",
       "    }\n",
       "</style>\n",
       "<table border=\"1\" class=\"dataframe\">\n",
       "  <thead>\n",
       "    <tr style=\"text-align: right;\">\n",
       "      <th></th>\n",
       "      <th>followers_count</th>\n",
       "      <th>followings_count</th>\n",
       "      <th>track_count</th>\n",
       "      <th>playlist_count</th>\n",
       "      <th>likes_count</th>\n",
       "      <th>comments_count</th>\n",
       "    </tr>\n",
       "  </thead>\n",
       "  <tbody>\n",
       "    <tr>\n",
       "      <th>count</th>\n",
       "      <td>1,999.00</td>\n",
       "      <td>1,999.00</td>\n",
       "      <td>1,999.00</td>\n",
       "      <td>1,999.00</td>\n",
       "      <td>1,999.00</td>\n",
       "      <td>1,999.00</td>\n",
       "    </tr>\n",
       "    <tr>\n",
       "      <th>mean</th>\n",
       "      <td>21,653.89</td>\n",
       "      <td>446.52</td>\n",
       "      <td>54.68</td>\n",
       "      <td>8.02</td>\n",
       "      <td>905.12</td>\n",
       "      <td>215.64</td>\n",
       "    </tr>\n",
       "    <tr>\n",
       "      <th>std</th>\n",
       "      <td>305,404.97</td>\n",
       "      <td>540.51</td>\n",
       "      <td>241.50</td>\n",
       "      <td>41.44</td>\n",
       "      <td>2,738.12</td>\n",
       "      <td>837.36</td>\n",
       "    </tr>\n",
       "    <tr>\n",
       "      <th>min</th>\n",
       "      <td>0.00</td>\n",
       "      <td>0.00</td>\n",
       "      <td>0.00</td>\n",
       "      <td>0.00</td>\n",
       "      <td>0.00</td>\n",
       "      <td>0.00</td>\n",
       "    </tr>\n",
       "    <tr>\n",
       "      <th>25%</th>\n",
       "      <td>48.00</td>\n",
       "      <td>41.50</td>\n",
       "      <td>1.00</td>\n",
       "      <td>0.00</td>\n",
       "      <td>23.00</td>\n",
       "      <td>2.00</td>\n",
       "    </tr>\n",
       "    <tr>\n",
       "      <th>50%</th>\n",
       "      <td>411.00</td>\n",
       "      <td>206.00</td>\n",
       "      <td>9.00</td>\n",
       "      <td>1.00</td>\n",
       "      <td>146.00</td>\n",
       "      <td>21.00</td>\n",
       "    </tr>\n",
       "    <tr>\n",
       "      <th>75%</th>\n",
       "      <td>3,050.00</td>\n",
       "      <td>685.00</td>\n",
       "      <td>33.00</td>\n",
       "      <td>4.00</td>\n",
       "      <td>723.00</td>\n",
       "      <td>137.50</td>\n",
       "    </tr>\n",
       "    <tr>\n",
       "      <th>max</th>\n",
       "      <td>8,319,039.00</td>\n",
       "      <td>2,014.00</td>\n",
       "      <td>6,645.00</td>\n",
       "      <td>1,210.00</td>\n",
       "      <td>77,573.00</td>\n",
       "      <td>25,806.00</td>\n",
       "    </tr>\n",
       "  </tbody>\n",
       "</table>\n",
       "</div>"
      ],
      "text/plain": [
       "       followers_count  followings_count  track_count  playlist_count  likes_count  comments_count\n",
       "count         1,999.00          1,999.00     1,999.00        1,999.00     1,999.00        1,999.00\n",
       "mean         21,653.89            446.52        54.68            8.02       905.12          215.64\n",
       "std         305,404.97            540.51       241.50           41.44     2,738.12          837.36\n",
       "min               0.00              0.00         0.00            0.00         0.00            0.00\n",
       "25%              48.00             41.50         1.00            0.00        23.00            2.00\n",
       "50%             411.00            206.00         9.00            1.00       146.00           21.00\n",
       "75%           3,050.00            685.00        33.00            4.00       723.00          137.50\n",
       "max       8,319,039.00          2,014.00     6,645.00        1,210.00    77,573.00       25,806.00"
      ]
     },
     "execution_count": 10,
     "metadata": {},
     "output_type": "execute_result"
    }
   ],
   "source": [
    "user_df[numerical_columns].describe()"
   ]
  },
  {
   "cell_type": "markdown",
   "id": "positive-validity",
   "metadata": {},
   "source": [
    "Giống như dự đoán, dữ liệu dạng số có:\n",
    "* Độ phân tán lớn\n",
    "* Bị lệch về phía giá trị nhỏ hơn (trung vị nhỏ hơn so với trung bình)\n",
    "* Số người theo dõi tương đối cao (giá trị trung vị là 411)"
   ]
  },
  {
   "cell_type": "markdown",
   "id": "vital-button",
   "metadata": {},
   "source": [
    "#### Các dữ liệu dạng categorical được phân bố như thế nào"
   ]
  },
  {
   "cell_type": "code",
   "execution_count": 11,
   "id": "forced-tours",
   "metadata": {},
   "outputs": [
    {
     "data": {
      "text/html": [
       "<div>\n",
       "<style scoped>\n",
       "    .dataframe tbody tr th:only-of-type {\n",
       "        vertical-align: middle;\n",
       "    }\n",
       "\n",
       "    .dataframe tbody tr th {\n",
       "        vertical-align: top;\n",
       "    }\n",
       "\n",
       "    .dataframe thead th {\n",
       "        text-align: right;\n",
       "    }\n",
       "</style>\n",
       "<table border=\"1\" class=\"dataframe\">\n",
       "  <thead>\n",
       "    <tr style=\"text-align: right;\">\n",
       "      <th></th>\n",
       "      <th>permalink_url</th>\n",
       "      <th>username</th>\n",
       "      <th>full_name</th>\n",
       "      <th>...</th>\n",
       "      <th>country_code</th>\n",
       "      <th>description</th>\n",
       "      <th>verified</th>\n",
       "    </tr>\n",
       "  </thead>\n",
       "  <tbody>\n",
       "    <tr>\n",
       "      <th>num_values</th>\n",
       "      <td>1,999.00</td>\n",
       "      <td>1,998.00</td>\n",
       "      <td>1,126.00</td>\n",
       "      <td>...</td>\n",
       "      <td>88.00</td>\n",
       "      <td>1,370.00</td>\n",
       "      <td>2.00</td>\n",
       "    </tr>\n",
       "    <tr>\n",
       "      <th>missing_percentage</th>\n",
       "      <td>0.00</td>\n",
       "      <td>0.00</td>\n",
       "      <td>0.42</td>\n",
       "      <td>...</td>\n",
       "      <td>0.44</td>\n",
       "      <td>0.31</td>\n",
       "      <td>0.00</td>\n",
       "    </tr>\n",
       "  </tbody>\n",
       "</table>\n",
       "<p>2 rows × 7 columns</p>\n",
       "</div>"
      ],
      "text/plain": [
       "                    permalink_url  username  full_name  ...  country_code  description  verified\n",
       "num_values               1,999.00  1,998.00   1,126.00  ...         88.00     1,370.00      2.00\n",
       "missing_percentage           0.00      0.00       0.42  ...          0.44         0.31      0.00\n",
       "\n",
       "[2 rows x 7 columns]"
      ]
     },
     "execution_count": 11,
     "metadata": {},
     "output_type": "execute_result"
    }
   ],
   "source": [
    "def compute_stats(col):\n",
    "    return [col.unique().size, col.isna().sum() / col.size]\n",
    "categorical_info = user_df[categorical_columns].apply(compute_stats)\n",
    "categorical_info.index = ['num_values', 'missing_percentage']\n",
    "categorical_info"
   ]
  },
  {
   "cell_type": "markdown",
   "id": "religious-armenia",
   "metadata": {},
   "source": [
    "Như dự đoán, ta thu thập được user đến từ 88/195 = 45% số quốc gia trên thế giới. Ta có thể sẽ còn thu thập được nhiều hơn do có khá nhiều user có thông tin về thành phố nhưng không có thông tin về quốc gia."
   ]
  },
  {
   "cell_type": "code",
   "execution_count": 12,
   "id": "electrical-bridges",
   "metadata": {},
   "outputs": [
    {
     "data": {
      "text/plain": [
       "(263, 13)"
      ]
     },
     "execution_count": 12,
     "metadata": {},
     "output_type": "execute_result"
    }
   ],
   "source": [
    "user_df[(~user_df.city.isna()) & (user_df.country_code.isna())].shape"
   ]
  },
  {
   "cell_type": "markdown",
   "id": "illegal-feedback",
   "metadata": {},
   "source": [
    "## Phân tích và trực quan hóa"
   ]
  },
  {
   "cell_type": "markdown",
   "id": "ruled-dimension",
   "metadata": {},
   "source": [
    "Ở phần này, ta chỉ quan tâm đến dữ liệu dạng số. Do đó, ta tạm thời bỏ qua các dạng dữ liệu khác."
   ]
  },
  {
   "cell_type": "code",
   "execution_count": 13,
   "id": "continued-beads",
   "metadata": {},
   "outputs": [],
   "source": [
    "numeric_values = user_df[numerical_columns].copy()"
   ]
  },
  {
   "cell_type": "markdown",
   "id": "awful-seller",
   "metadata": {},
   "source": [
    "### Loại bỏ outlier\n",
    "Ta thực hiện loại bỏ các giá trị không nằm trong khoảng $[Q_1 - 1.5 \\cdot IQR, Q_3 + 1.5 \\cdot IQR]$ trên từng cột, với $Q_1$, $Q_3$ là phân vị thứ 25 và 75 của cột, $IQR = Q_3 - Q_1$"
   ]
  },
  {
   "cell_type": "code",
   "execution_count": 14,
   "id": "useful-server",
   "metadata": {},
   "outputs": [
    {
     "data": {
      "text/html": [
       "<div>\n",
       "<style scoped>\n",
       "    .dataframe tbody tr th:only-of-type {\n",
       "        vertical-align: middle;\n",
       "    }\n",
       "\n",
       "    .dataframe tbody tr th {\n",
       "        vertical-align: top;\n",
       "    }\n",
       "\n",
       "    .dataframe thead th {\n",
       "        text-align: right;\n",
       "    }\n",
       "</style>\n",
       "<table border=\"1\" class=\"dataframe\">\n",
       "  <thead>\n",
       "    <tr style=\"text-align: right;\">\n",
       "      <th></th>\n",
       "      <th>followers_count</th>\n",
       "      <th>followings_count</th>\n",
       "      <th>track_count</th>\n",
       "      <th>playlist_count</th>\n",
       "      <th>likes_count</th>\n",
       "      <th>comments_count</th>\n",
       "    </tr>\n",
       "    <tr>\n",
       "      <th>id</th>\n",
       "      <th></th>\n",
       "      <th></th>\n",
       "      <th></th>\n",
       "      <th></th>\n",
       "      <th></th>\n",
       "      <th></th>\n",
       "    </tr>\n",
       "  </thead>\n",
       "  <tbody>\n",
       "    <tr>\n",
       "      <th>1038569842</th>\n",
       "      <td>11</td>\n",
       "      <td>102</td>\n",
       "      <td>0</td>\n",
       "      <td>0</td>\n",
       "      <td>40</td>\n",
       "      <td>0</td>\n",
       "    </tr>\n",
       "    <tr>\n",
       "      <th>264386839</th>\n",
       "      <td>17</td>\n",
       "      <td>107</td>\n",
       "      <td>0</td>\n",
       "      <td>1</td>\n",
       "      <td>329</td>\n",
       "      <td>0</td>\n",
       "    </tr>\n",
       "    <tr>\n",
       "      <th>191935148</th>\n",
       "      <td>154</td>\n",
       "      <td>417</td>\n",
       "      <td>11</td>\n",
       "      <td>5</td>\n",
       "      <td>657</td>\n",
       "      <td>4</td>\n",
       "    </tr>\n",
       "    <tr>\n",
       "      <th>522587076</th>\n",
       "      <td>26</td>\n",
       "      <td>64</td>\n",
       "      <td>0</td>\n",
       "      <td>0</td>\n",
       "      <td>1041</td>\n",
       "      <td>2</td>\n",
       "    </tr>\n",
       "    <tr>\n",
       "      <th>931073569</th>\n",
       "      <td>8</td>\n",
       "      <td>4</td>\n",
       "      <td>0</td>\n",
       "      <td>0</td>\n",
       "      <td>223</td>\n",
       "      <td>0</td>\n",
       "    </tr>\n",
       "    <tr>\n",
       "      <th>...</th>\n",
       "      <td>...</td>\n",
       "      <td>...</td>\n",
       "      <td>...</td>\n",
       "      <td>...</td>\n",
       "      <td>...</td>\n",
       "      <td>...</td>\n",
       "    </tr>\n",
       "    <tr>\n",
       "      <th>181632094</th>\n",
       "      <td>1133</td>\n",
       "      <td>307</td>\n",
       "      <td>15</td>\n",
       "      <td>4</td>\n",
       "      <td>184</td>\n",
       "      <td>226</td>\n",
       "    </tr>\n",
       "    <tr>\n",
       "      <th>24415444</th>\n",
       "      <td>798</td>\n",
       "      <td>179</td>\n",
       "      <td>4</td>\n",
       "      <td>0</td>\n",
       "      <td>139</td>\n",
       "      <td>74</td>\n",
       "    </tr>\n",
       "    <tr>\n",
       "      <th>311781492</th>\n",
       "      <td>594</td>\n",
       "      <td>6</td>\n",
       "      <td>7</td>\n",
       "      <td>3</td>\n",
       "      <td>6</td>\n",
       "      <td>0</td>\n",
       "    </tr>\n",
       "    <tr>\n",
       "      <th>3494687</th>\n",
       "      <td>451</td>\n",
       "      <td>217</td>\n",
       "      <td>11</td>\n",
       "      <td>0</td>\n",
       "      <td>80</td>\n",
       "      <td>90</td>\n",
       "    </tr>\n",
       "    <tr>\n",
       "      <th>2370952</th>\n",
       "      <td>2281</td>\n",
       "      <td>604</td>\n",
       "      <td>15</td>\n",
       "      <td>0</td>\n",
       "      <td>941</td>\n",
       "      <td>85</td>\n",
       "    </tr>\n",
       "  </tbody>\n",
       "</table>\n",
       "<p>1223 rows × 6 columns</p>\n",
       "</div>"
      ],
      "text/plain": [
       "            followers_count  followings_count  track_count  playlist_count  likes_count  comments_count\n",
       "id                                                                                                     \n",
       "1038569842               11               102            0               0           40               0\n",
       "264386839                17               107            0               1          329               0\n",
       "191935148               154               417           11               5          657               4\n",
       "522587076                26                64            0               0         1041               2\n",
       "931073569                 8                 4            0               0          223               0\n",
       "...                     ...               ...          ...             ...          ...             ...\n",
       "181632094              1133               307           15               4          184             226\n",
       "24415444                798               179            4               0          139              74\n",
       "311781492               594                 6            7               3            6               0\n",
       "3494687                 451               217           11               0           80              90\n",
       "2370952                2281               604           15               0          941              85\n",
       "\n",
       "[1223 rows x 6 columns]"
      ]
     },
     "execution_count": 14,
     "metadata": {},
     "output_type": "execute_result"
    }
   ],
   "source": [
    "q1 = numeric_values.quantile(0.25)\n",
    "q3 = numeric_values.quantile(0.75)\n",
    "iqr = q3 - q1\n",
    "\n",
    "l, u = q1 - 1.5 * iqr, q3 + 1.5 * iqr\n",
    "\n",
    "numeric_values, l = numeric_values.align(l, axis=1)\n",
    "numeric_values = numeric_values[~((numeric_values < l) | (numeric_values > u)).any(axis=1)]\n",
    "numeric_values"
   ]
  },
  {
   "cell_type": "markdown",
   "id": "improving-jacket",
   "metadata": {},
   "source": [
    "### Phân tích\n",
    "Ta khảo sát mối tương quan giữa hai biến: `track_count` -  số bài nhạc người dùng đã chia sẻ và `followers_count` - số người theo dõi. Ta sẽ xem liệu một nghệ sĩ sáng tác nhiều bài hát hơn có giúp họ được chú ý hơn."
   ]
  },
  {
   "cell_type": "markdown",
   "id": "duplicate-powder",
   "metadata": {},
   "source": [
    "Trước tiên, ta xem xét sự phân bố của hai biến."
   ]
  },
  {
   "cell_type": "code",
   "execution_count": 15,
   "id": "linear-reader",
   "metadata": {},
   "outputs": [
    {
     "data": {
      "image/png": "[encoded data removed]",
      "text/plain": [
       "<Figure size 864x576 with 2 Axes>"
      ]
     },
     "metadata": {
      "needs_background": "light"
     },
     "output_type": "display_data"
    }
   ],
   "source": [
    "fig, ax = plt.subplots(1, 2, sharey=True, constrained_layout=True)\n",
    "ax1, ax2 = ax\n",
    "\n",
    "ax1.hist(numeric_values.followers_count, edgecolor='black', bins=np.arange(0, 7000, 500))\n",
    "ax2.hist(numeric_values.track_count, edgecolor='black', color='orange', bins=np.arange(0, 80, 5))\n",
    "\n",
    "ax1.set_ylabel('Frequency')\n",
    "ax1.set_xlabel('Number of followers')\n",
    "ax2.set_xlabel('Number of tracks')\n",
    "ax1.set_title('Histogram for the number of followers')\n",
    "ax2.set_title('Histogram for the number of tracks')\n",
    "\n",
    "fig.set_size_inches(12, 8)\n",
    "plt.show()"
   ]
  },
  {
   "cell_type": "markdown",
   "id": "filled-daisy",
   "metadata": {},
   "source": [
    "Scatter plot của hai biến"
   ]
  },
  {
   "cell_type": "code",
   "execution_count": 16,
   "id": "collective-projector",
   "metadata": {},
   "outputs": [
    {
     "data": {
      "image/png": "[encoded data removed]",
      "text/plain": [
       "<Figure size 864x576 with 1 Axes>"
      ]
     },
     "metadata": {
      "needs_background": "light"
     },
     "output_type": "display_data"
    }
   ],
   "source": [
    "plt.figure(figsize=(12, 8))\n",
    "plt.scatter(numeric_values.track_count, numeric_values.followers_count, s=10)\n",
    "plt.xlabel('Number of tracks')\n",
    "plt.ylabel('Number of followers')\n",
    "plt.show()"
   ]
  },
  {
   "cell_type": "markdown",
   "id": "handy-isaac",
   "metadata": {},
   "source": [
    "Như vậy không có mối quan hệ đáng kể nào giữa số track và số follower, mặc dù về tổng thể vẫn có tương quan thuận giữa hai biến này, thể hiện qua hệ số tương quan:"
   ]
  },
  {
   "cell_type": "code",
   "execution_count": 17,
   "id": "interstate-transaction",
   "metadata": {},
   "outputs": [
    {
     "data": {
      "text/plain": [
       "0.3671988095837619"
      ]
     },
     "execution_count": 17,
     "metadata": {},
     "output_type": "execute_result"
    }
   ],
   "source": [
    "np.corrcoef(numeric_values.track_count, numeric_values.followers_count)[0, 1]"
   ]
  },
  {
   "cell_type": "markdown",
   "id": "informative-brunei",
   "metadata": {},
   "source": [
    "---"
   ]
  },
  {
   "cell_type": "markdown",
   "id": "mighty-square",
   "metadata": {},
   "source": [
    "# Tham khảo"
   ]
  },
  {
   "cell_type": "markdown",
   "id": "reasonable-brooklyn",
   "metadata": {},
   "source": [
    "1. [SoundCloud Public API Specification](https://developers.soundcloud.com/docs/api/explorer/open-api)\n",
    "2. [NumPy Documentation](https://numpy.org/doc/)\n",
    "3. [pandas documentation](https://pandas.pydata.org/docs/)"
   ]
  }
 ],
 "metadata": {
  "kernelspec": {
   "display_name": "Python 3 (ipykernel)",
   "language": "python",
   "name": "python3"
  },
  "language_info": {
   "codemirror_mode": {
    "name": "ipython",
    "version": 3
   },
   "file_extension": ".py",
   "mimetype": "text/x-python",
   "name": "python",
   "nbconvert_exporter": "python",
   "pygments_lexer": "ipython3",
   "version": "3.8.8"
  }
 },
 "nbformat": 4,
 "nbformat_minor": 5
}
